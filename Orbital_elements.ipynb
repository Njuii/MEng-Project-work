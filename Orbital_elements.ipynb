{
 "cells": [
  {
   "cell_type": "code",
   "execution_count": 2,
   "metadata": {},
   "outputs": [],
   "source": [
    "import numpy as np\n",
    "import pandas as pd\n",
    "\n",
    "from astropy import units as u\n",
    "from astropy.time import Time"
   ]
  },
  {
   "cell_type": "code",
   "execution_count": 3,
   "metadata": {},
   "outputs": [],
   "source": [
    "# Knowns:\n",
    "A_pos = [-0.53684804, 0.86417531, 0.30750448] *u.AU\n",
    "A_vel = [-0.01402468, -0.0056809, -0.00246355] *u.AU/u.day\n",
    "\n",
    "E_pos = [-0.55405031, -0.7780868, -0.33723863] *u.AU\n",
    "E_vel = [0.01410008, -0.00872388, -0.0037822] *u.AU/u.day\n",
    "\n",
    "impulse1 = [26008.003, -13477.922, -3769.733] *u.m/u.s\n",
    "impulse2 = [-25041.406, -11295.125, -5884.683] *u.m/u.s\n",
    "\n",
    "grv_par_sun = 1.327*10**11 *u.km**3/u.s**2"
   ]
  },
  {
   "cell_type": "code",
   "execution_count": 4,
   "metadata": {},
   "outputs": [],
   "source": [
    "# Orbital Element Calculations (HCRS frame)"
   ]
  },
  {
   "cell_type": "code",
   "execution_count": 5,
   "metadata": {},
   "outputs": [],
   "source": [
    "# Specific angular momentum\n",
    "def specific_angular_momentum(init_pos, init_vel):\n",
    "    result = np.cross(init_pos,init_vel).to(u.km**2/u.s)\n",
    "    return result"
   ]
  },
  {
   "cell_type": "code",
   "execution_count": 6,
   "metadata": {},
   "outputs": [],
   "source": [
    "# Eccentricity vector\n",
    "def eccentricity_vector(init_pos,init_vel,gravitational_parameter):\n",
    "    sp_angular_momentum = np.cross(init_pos,init_vel).to(u.km**2/u.s)\n",
    "    unit_vec_pos = init_pos/np.linalg.norm(init_pos)\n",
    "    e_vec = (1/gravitational_parameter)*(np.cross(init_vel,sp_angular_momentum)) - unit_vec_pos\n",
    "    return e_vec.value"
   ]
  },
  {
   "cell_type": "code",
   "execution_count": 7,
   "metadata": {},
   "outputs": [],
   "source": [
    "# Eccentricity\n",
    "def eccentricity(init_pos,init_vel,gravitational_parameter):\n",
    "    sp_angular_momentum = np.cross(init_pos,init_vel).to(u.km**2/u.s)\n",
    "    unit_vec_pos = init_pos/np.linalg.norm(init_pos)\n",
    "    e_vec = (1/gravitational_parameter)*(np.cross(init_vel,sp_angular_momentum)) - unit_vec_pos\n",
    "    return np.linalg.norm(e_vec).value\n"
   ]
  },
  {
   "cell_type": "code",
   "execution_count": 8,
   "metadata": {},
   "outputs": [],
   "source": [
    "# Specific energy\n",
    "def specific_energy(init_pos, init_vel, gravitational_parameter):\n",
    "    sp_angular_momentum = np.cross(init_pos,init_vel).to(u.km**2/u.s)\n",
    "    h = np.linalg.norm(sp_angular_momentum)\n",
    "    \n",
    "    unit_vec_pos = init_pos/np.linalg.norm(init_pos)\n",
    "    e_vec = ((1/gravitational_parameter)*(np.cross(init_vel,sp_angular_momentum)) - unit_vec_pos)\n",
    "    e = np.linalg.norm(e_vec).value\n",
    "\n",
    "    epsilon = (-1/2) * ((gravitational_parameter**2)/(h**2)) * (1-e**2)\n",
    "\n",
    "    return epsilon"
   ]
  },
  {
   "cell_type": "code",
   "execution_count": 9,
   "metadata": {},
   "outputs": [],
   "source": [
    "# Semi-major axis\n",
    "def semi_major_axis(init_pos,init_vel,gravitational_parameter):\n",
    "\n",
    "    sp_angular_momentum = np.cross(init_pos,init_vel).to(u.km**2/u.s)\n",
    "    h = np.linalg.norm(sp_angular_momentum)\n",
    "\n",
    "    unit_vec_pos = init_pos/np.linalg.norm(init_pos)\n",
    "    e_vec = (1/gravitational_parameter)*(np.cross(init_vel,sp_angular_momentum)) - unit_vec_pos\n",
    "    e = np.linalg.norm(e_vec).value\n",
    "\n",
    "    s_major_axis = ((h**2)/gravitational_parameter) * (1/(1-e**2))\n",
    "\n",
    "    return s_major_axis"
   ]
  },
  {
   "cell_type": "code",
   "execution_count": 10,
   "metadata": {},
   "outputs": [],
   "source": [
    "# Inclination\n",
    "def inclination(init_pos, init_vel):\n",
    "    sp_angular_momentum = np.cross(init_pos,init_vel).to(u.km**2/u.s)\n",
    "    h = np.linalg.norm(sp_angular_momentum)\n",
    "    h_z = sp_angular_momentum[2].copy()\n",
    "\n",
    "    inc = np.arccos(h_z/h).to(u.degree)\n",
    "    return inc"
   ]
  },
  {
   "cell_type": "code",
   "execution_count": 11,
   "metadata": {},
   "outputs": [],
   "source": [
    "# Longditude of ascending node\n",
    "def long_of_ascending_node(init_pos,init_vel):\n",
    "    sp_angular_momentum = np.cross(init_pos,init_vel).to(u.km**2/u.s)\n",
    "\n",
    "    nodeline = np.cross([0,0,1],sp_angular_momentum).to(u.km**2/u.s)\n",
    "    nodeline_abs = np.linalg.norm(nodeline)\n",
    "    nodeline_x = nodeline[0].copy()\n",
    "\n",
    "    ascending_node =np.arccos(nodeline_x/ nodeline_abs).to(u.degree)\n",
    "\n",
    "    # ascending_node = np.arccos(h_x/h).to(u.degree)\n",
    "    return ascending_node"
   ]
  },
  {
   "cell_type": "code",
   "execution_count": 18,
   "metadata": {},
   "outputs": [],
   "source": [
    "# Argument of periapsis\n",
    "def argument_of_periapsis(init_pos,init_vel,gravitational_parameter):\n",
    "    sp_angular_momentum = np.cross(init_pos,init_vel).to(u.km**2/u.s)\n",
    "\n",
    "    nodeline = np.cross([0,0,1],sp_angular_momentum).to(u.km**2/u.s)\n",
    "    nodeline_abs = np.linalg.norm(nodeline)\n",
    "\n",
    "    unit_vec_pos = init_pos/np.linalg.norm(init_pos)\n",
    "    e_vec = ((1/gravitational_parameter)*(np.cross(init_vel,sp_angular_momentum)) - unit_vec_pos).value\n",
    "    e = np.linalg.norm(e_vec)\n",
    "\n",
    "    temp = np.dot(nodeline,e_vec)/(nodeline_abs*e)\n",
    "    arg_peri = np.arccos(temp).to(u.degree)\n",
    "\n",
    "    return arg_peri\n"
   ]
  },
  {
   "cell_type": "code",
   "execution_count": 13,
   "metadata": {},
   "outputs": [],
   "source": [
    "# True Anomaly\n",
    "def true_anomaly(init_pos,init_vel,gravitational_parameter):\n",
    "    sp_angular_momentum = np.cross(init_pos,init_vel).to(u.km**2/u.s)\n",
    "\n",
    "    unit_vec_pos = init_pos/np.linalg.norm(init_pos)\n",
    "    e_vec = ((1/gravitational_parameter)*(np.cross(init_vel,sp_angular_momentum)) - unit_vec_pos).value\n",
    "    e = np.linalg.norm(e_vec)\n",
    "\n",
    "    temp = np.dot(e_vec,init_pos)\n",
    "    dist = np.linalg.norm(init_pos)\n",
    "    theta = np.arccos(temp/(e*dist)).to(u.degree)\n",
    "    return theta\n"
   ]
  },
  {
   "cell_type": "code",
   "execution_count": null,
   "metadata": {},
   "outputs": [],
   "source": []
  },
  {
   "cell_type": "code",
   "execution_count": 19,
   "metadata": {},
   "outputs": [
    {
     "data": {
      "text/latex": [
       "$112.03012 \\; \\mathrm{{}^{\\circ}}$"
      ],
      "text/plain": [
       "<Quantity 112.03012154 deg>"
      ]
     },
     "execution_count": 19,
     "metadata": {},
     "output_type": "execute_result"
    }
   ],
   "source": [
    "argument_of_periapsis(E_pos,E_vel,grv_par_sun)"
   ]
  },
  {
   "cell_type": "code",
   "execution_count": null,
   "metadata": {},
   "outputs": [],
   "source": []
  },
  {
   "cell_type": "code",
   "execution_count": null,
   "metadata": {},
   "outputs": [],
   "source": []
  },
  {
   "cell_type": "code",
   "execution_count": null,
   "metadata": {},
   "outputs": [],
   "source": []
  }
 ],
 "metadata": {
  "kernelspec": {
   "display_name": "base",
   "language": "python",
   "name": "python3"
  },
  "language_info": {
   "codemirror_mode": {
    "name": "ipython",
    "version": 3
   },
   "file_extension": ".py",
   "mimetype": "text/x-python",
   "name": "python",
   "nbconvert_exporter": "python",
   "pygments_lexer": "ipython3",
   "version": "3.11.5"
  }
 },
 "nbformat": 4,
 "nbformat_minor": 2
}
